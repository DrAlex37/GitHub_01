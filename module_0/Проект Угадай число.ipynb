{
 "cells": [
  {
   "cell_type": "code",
   "execution_count": 15,
   "metadata": {},
   "outputs": [
    {
     "name": "stdout",
     "output_type": "stream",
     "text": [
      "Ваш алгоритм угадывает число в среднем за 100 попыток\n",
      "Ваш алгоритм угадывает число в среднем за 33 попыток\n"
     ]
    },
    {
     "data": {
      "text/plain": [
       "33"
      ]
     },
     "execution_count": 15,
     "metadata": {},
     "output_type": "execute_result"
    }
   ],
   "source": [
    "import numpy as np\n",
    "\n",
    "\n",
    "def score_game(game_core, numb_atte):\n",
    "    '''Запускаем функцию указанное число раз, чтобы узнать, за какое количество попыток в среднем, \n",
    "        функция угадывает случайные числа из постоянной их последовательности'''\n",
    "    count_ls = [] # последовательность из количества попыток для каждого случайного числа\n",
    "    '''фиксируем RANDOM SEED, для формирования постоянной последовательности случайных чисел'''\n",
    "    np.random.seed(1)\n",
    "    '''Создаем последовательность (список) из заданного количества случайных чисел'''\n",
    "    random_array = np.random.randint(1,101, size=(numb_atte))\n",
    "    '''передаем каждое случайное число в функцию по угадыванию чисел, \n",
    "        которая возвращает кол-во попыток, потраченное на угадывание каждого случайного числа. \n",
    "        Кол-во попыток для каждого случайного числа записывается в список, по которому затем\n",
    "        вычисляется среднее значение'''\n",
    "    for number in random_array:\n",
    "        count_ls.append(game_core(number))\n",
    "    score = int(np.mean(count_ls))\n",
    "    print(f\"Ваш алгоритм угадывает число в среднем за {score} попыток\")\n",
    "    return(score)\n",
    "\n",
    "\n",
    "def game_core_v1(number):\n",
    "    '''Пытаемся отгадать просто наугад перебором случайных чисел, \n",
    "        никак не используя информацию о больше или меньше.\n",
    "        Функция принимает загаданное число и возвращает число попыток'''\n",
    "    count = 0\n",
    "    while True:\n",
    "        count+=1\n",
    "        predict = np.random.randint(1,101) # случайное число в угадываемом диапазоне\n",
    "        if number == predict: \n",
    "            return(count) # выход из цикла, если угадали\n",
    "        \n",
    "        \n",
    "def game_core_v2(number):\n",
    "    '''Первым числом берем любое случайное число число, а потом уменьшаем или увеличиваем его \n",
    "        в зависимости от того, больше оно или меньше нужного.\n",
    "        Функция принимает загаданное число и возвращает число попыток'''\n",
    "    count = 1\n",
    "    predict = np.random.randint(1,101)\n",
    "    while number != predict:\n",
    "        count+=1\n",
    "        if number > predict: \n",
    "            predict += 1\n",
    "        elif number < predict: \n",
    "            predict -= 1\n",
    "    return(count) # выход из цикла, если угадали\n",
    "\n",
    "score_game(game_core_v1,1000)\n",
    "score_game(game_core_v2,1000)"
   ]
  },
  {
   "cell_type": "code",
   "execution_count": null,
   "metadata": {},
   "outputs": [],
   "source": []
  }
 ],
 "metadata": {
  "kernelspec": {
   "display_name": "Python 3",
   "language": "python",
   "name": "python3"
  },
  "language_info": {
   "codemirror_mode": {
    "name": "ipython",
    "version": 3
   },
   "file_extension": ".py",
   "mimetype": "text/x-python",
   "name": "python",
   "nbconvert_exporter": "python",
   "pygments_lexer": "ipython3",
   "version": "3.8.3"
  }
 },
 "nbformat": 4,
 "nbformat_minor": 4
}
