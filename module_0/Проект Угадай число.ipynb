{
 "cells": [
  {
   "cell_type": "code",
   "execution_count": 31,
   "metadata": {},
   "outputs": [
    {
     "name": "stdout",
     "output_type": "stream",
     "text": [
      "Алгоритм угадывает число в среднем за 101 попыток\n",
      "Алгоритм угадывает число в среднем за 33 попыток\n",
      "Алгоритм угадывает число в среднем за 5 попыток\n"
     ]
    },
    {
     "data": {
      "text/plain": [
       "5"
      ]
     },
     "execution_count": 31,
     "metadata": {},
     "output_type": "execute_result"
    }
   ],
   "source": [
    "import numpy as np\n",
    "\n",
    "\n",
    "def score_game(game_core, numb_atte):\n",
    "    '''Запускаем переданную функцию указанное число раз, чтобы узнать, \n",
    "        за какое количество попыток в среднем, переданная функция угадывает \n",
    "        случайные числа из постоянной их последовательности, которая \n",
    "        форимруется в этой функции.\n",
    "        Количество запуска передаваемой функции задается вторым аргументом'''\n",
    "    count_ls = [] # последовательность из количества попыток для каждого \n",
    "                  # случайного числа\n",
    "    '''фиксируем RANDOM SEED, для формирования постоянной последовательности \n",
    "        случайных чисел'''\n",
    "    np.random.seed(1)\n",
    "    '''Создаем последовательность (список) из заданного количества случайных \n",
    "        чисел'''\n",
    "    random_array = np.random.randint(1,101, size=(numb_atte))\n",
    "    \n",
    "    '''передаем каждое случайное число в функцию по угадыванию чисел, \n",
    "        которая возвращает кол-во попыток, потраченное на угадывание каждого \n",
    "        случайного числа. \n",
    "        Кол-во попыток для каждого случайного числа записывается в список, \n",
    "        по которому затем вычисляется среднее значение'''\n",
    "    for number in random_array:\n",
    "        count_ls.append(game_core(number))\n",
    "    score = int(np.mean(count_ls))\n",
    "    print(f\"Алгоритм угадывает число в среднем за {score} попыток\")\n",
    "    return(score)\n",
    "\n",
    "\n",
    "def game_core_v1(number):\n",
    "    '''Пытаемся отгадать просто наугад перебором случайных чисел, \n",
    "        никак не используя информацию о больше или меньше.\n",
    "        Функция принимает загаданное число и возвращает число попыток'''\n",
    "    count = 0\n",
    "    while True:\n",
    "        count+=1\n",
    "        predict = np.random.randint(1,101) # случайное число в угадываемом \n",
    "                                           # диапазоне\n",
    "        if number == predict: \n",
    "            return(count) # выход из цикла, если угадали\n",
    "        \n",
    "        \n",
    "def game_core_v2(number):\n",
    "    '''Первым числом берем любое случайное число число, а потом уменьшаем\n",
    "        или увеличиваем его в зависимости от того, больше оно или меньше \n",
    "        нужного.\n",
    "        Функция принимает загаданное число и возвращает число попыток'''\n",
    "    count = 1\n",
    "    predict = np.random.randint(1,101)\n",
    "    while number != predict:\n",
    "        count+=1\n",
    "        if number > predict: \n",
    "            predict += 1\n",
    "        elif number < predict: \n",
    "            predict -= 1\n",
    "    return(count) # выход из цикла, если угадали\n",
    "\n",
    "def game_core_v3(number):\n",
    "    '''Первым числом берем любое случайное число число, а потом уменьшаем \n",
    "        (округляя до целого) или увеличиваем его в два раза, в зависимости \n",
    "        от того, больше оно или меньше нужного.\n",
    "        Функция принимает загаданное число number и возвращает число попыток\n",
    "        для его угадывания'''\n",
    "    count = 1\n",
    "#    predict = np.random.randint(1,101)\n",
    "    predict = 50 # начинаем угадывать с середины диапазона\n",
    "    mult = 28 # коэф. для изменения угадываемого числа\n",
    "    \n",
    "    while predict != number:\n",
    "        count += 1\n",
    "\n",
    "        if count > 1000:     # ограничитель для выхода из бесконечного цикла\n",
    "            break\n",
    "        \n",
    "        if predict < number: # выбранное число меньше угадываемого\n",
    "            sign = 1\n",
    "        else:                # выбранное число больше угадываемого\n",
    "            sign = -1\n",
    "        predict += mult*sign         \n",
    "        \n",
    "        if predict > 100:    # ограничиваем верхний предел\n",
    "            predict = 100\n",
    "        elif predict < 1:    # ограничиваем нижний предел\n",
    "            predict = 1\n",
    "        \n",
    "        mult = round(mult/2,0)\n",
    "    return(count) # выход из цикла, если угадали\n",
    "\n",
    "score_game(game_core_v1,1000)\n",
    "score_game(game_core_v2,1000)\n",
    "score_game(game_core_v3,1000)"
   ]
  },
  {
   "cell_type": "code",
   "execution_count": null,
   "metadata": {},
   "outputs": [],
   "source": []
  }
 ],
 "metadata": {
  "kernelspec": {
   "display_name": "Python 3",
   "language": "python",
   "name": "python3"
  },
  "language_info": {
   "codemirror_mode": {
    "name": "ipython",
    "version": 3
   },
   "file_extension": ".py",
   "mimetype": "text/x-python",
   "name": "python",
   "nbconvert_exporter": "python",
   "pygments_lexer": "ipython3",
   "version": "3.8.3"
  }
 },
 "nbformat": 4,
 "nbformat_minor": 4
}
