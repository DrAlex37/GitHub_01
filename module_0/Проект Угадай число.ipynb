{
 "cells": [
  {
   "cell_type": "code",
   "execution_count": 22,
   "metadata": {},
   "outputs": [
    {
     "name": "stdout",
     "output_type": "stream",
     "text": [
      "Алгоритм угадывает число в среднем за 101 попыток\n",
      "Алгоритм угадывает число в среднем за 33 попыток\n",
      "Алгоритм угадывает число в среднем за 526 попыток\n"
     ]
    },
    {
     "data": {
      "text/plain": [
       "526"
      ]
     },
     "execution_count": 22,
     "metadata": {},
     "output_type": "execute_result"
    }
   ],
   "source": [
    "import numpy as np\n",
    "\n",
    "\n",
    "def score_game(game_core, numb_atte):\n",
    "    '''Запускаем переданную функцию указанное число раз, чтобы узнать, \n",
    "        за какое количество попыток в среднем, переданная функция угадывает \n",
    "        случайные числа из постоянной их последовательности, которая форимруется в этой функции.\n",
    "        Количество запуска передаваемой функции задается вторым аргументом'''\n",
    "    count_ls = [] # последовательность из количества попыток для каждого случайного числа\n",
    "    '''фиксируем RANDOM SEED, для формирования постоянной последовательности случайных чисел'''\n",
    "    np.random.seed(1)\n",
    "    '''Создаем последовательность (список) из заданного количества случайных чисел'''\n",
    "    random_array = np.random.randint(1,101, size=(numb_atte))\n",
    "    \n",
    "    '''передаем каждое случайное число в функцию по угадыванию чисел, \n",
    "        которая возвращает кол-во попыток, потраченное на угадывание каждого случайного числа. \n",
    "        Кол-во попыток для каждого случайного числа записывается в список, по которому затем\n",
    "        вычисляется среднее значение'''\n",
    "    for number in random_array:\n",
    "        count_ls.append(game_core(number))\n",
    "    score = int(np.mean(count_ls))\n",
    "    print(f\"Алгоритм угадывает число в среднем за {score} попыток\")\n",
    "    return(score)\n",
    "\n",
    "\n",
    "def game_core_v1(number):\n",
    "    '''Пытаемся отгадать просто наугад перебором случайных чисел, \n",
    "        никак не используя информацию о больше или меньше.\n",
    "        Функция принимает загаданное число и возвращает число попыток'''\n",
    "    count = 0\n",
    "    while True:\n",
    "        count+=1\n",
    "        predict = np.random.randint(1,101) # случайное число в угадываемом диапазоне\n",
    "        if number == predict: \n",
    "            return(count) # выход из цикла, если угадали\n",
    "        \n",
    "        \n",
    "def game_core_v2(number):\n",
    "    '''Первым числом берем любое случайное число число, а потом уменьшаем или увеличиваем его \n",
    "        в зависимости от того, больше оно или меньше нужного.\n",
    "        Функция принимает загаданное число и возвращает число попыток'''\n",
    "    count = 1\n",
    "    predict = np.random.randint(1,101)\n",
    "    while number != predict:\n",
    "        count+=1\n",
    "        if number > predict: \n",
    "            predict += 1\n",
    "        elif number < predict: \n",
    "            predict -= 1\n",
    "    return(count) # выход из цикла, если угадали\n",
    "\n",
    "def game_core_v3(number):\n",
    "    '''Первым числом берем любое случайное число число, а потом уменьшаем (округляя до целого) \n",
    "        или увеличиваем его в два раза, в зависимости от того, больше оно или меньше нужного.\n",
    "        Функция принимает загаданное число number и возвращает число попыток для его угадывания'''\n",
    "    count = 1\n",
    "    predict = np.random.randint(1,101)\n",
    "\n",
    "    '''Первая попытка угадать'''\n",
    "    if predict < number:\n",
    "        pred_more = False \n",
    "        pred_prev_less = predict\n",
    "        predict *= 2\n",
    "    elif predict > number:\n",
    "        pred_more = True\n",
    "        pred_prev_more = predict\n",
    "        predict = round(predict/2,0)\n",
    "    \n",
    "    while predict != number:\n",
    "        '''Если с первой не угадали, то продолжаем угадывать'''\n",
    "        count+=1\n",
    "        if count > 1000: # ограничитель для выхода из бесконечного цикла\n",
    "            break\n",
    "        if predict < number:         # выбранное число меньше угаданного\n",
    "            pred_prev_less = predict # запоминаем выбранное число для следующей проверки\n",
    "            if not pred_more:        # было меньше в предыдущей попытке\n",
    "                predict *= 2         \n",
    "                if predict > 100:    # ограничиваем верхний предел\n",
    "                    predict = 100\n",
    "            else:                    # было больше в предыдущей попытке\n",
    "                predict = (predict+pred_prev_more) // 2\n",
    "            pred_more = False        # устанавливаем флаг, что число меньше для следующей проверки\n",
    "        else:                        # выбранное число больше угаданного\n",
    "            pred_prev_more = predict # запоминаем выбранное число для следующей проверки\n",
    "            if pred_more:            # было больше в предыдущей попытке\n",
    "                predict //= 2        \n",
    "            else:                    # было больше в предыдущей попытке\n",
    "                predict = (predict+pred_prev_less) / 2\n",
    "            pred_more = True        # устанавливаем флаг, что число больше для следующей проверки\n",
    "    return(count) # выход из цикла, если угадали\n",
    "\n",
    "score_game(game_core_v1,1000)\n",
    "score_game(game_core_v2,1000)\n",
    "score_game(game_core_v3,1000)"
   ]
  },
  {
   "cell_type": "code",
   "execution_count": null,
   "metadata": {},
   "outputs": [],
   "source": []
  }
 ],
 "metadata": {
  "kernelspec": {
   "display_name": "Python 3",
   "language": "python",
   "name": "python3"
  },
  "language_info": {
   "codemirror_mode": {
    "name": "ipython",
    "version": 3
   },
   "file_extension": ".py",
   "mimetype": "text/x-python",
   "name": "python",
   "nbconvert_exporter": "python",
   "pygments_lexer": "ipython3",
   "version": "3.8.3"
  }
 },
 "nbformat": 4,
 "nbformat_minor": 4
}
